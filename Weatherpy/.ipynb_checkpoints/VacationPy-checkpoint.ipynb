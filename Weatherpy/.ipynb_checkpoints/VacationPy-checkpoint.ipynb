{
 "cells": [
  {
   "cell_type": "code",
   "execution_count": 1,
   "id": "9d68ce75-28d2-49da-abad-fc0c8fe5cb54",
   "metadata": {},
   "outputs": [],
   "source": [
    "# Dependencies and Setup\n",
    "import matplotlib.pyplot as plt\n",
    "import pandas as pd\n",
    "import numpy as np\n",
    "import requests\n",
    "import time\n",
    "from scipy.stats import linregress\n",
    "\n",
    "# Import API key\n",
    "from api_keys import weather_api_key\n",
    "\n",
    "# Incorporated citipy to determine city based on latitude and longitude\n",
    "from citipy import citipy\n",
    "\n",
    "# Output File (CSV)\n",
    "output_data_file = \"output_data/cities.csv\"\n",
    "\n",
    "# Range of latitudes and longitudes\n",
    "lat_range = (-90, 90)\n",
    "lng_range = (-180, 180)"
   ]
  },
  {
   "cell_type": "markdown",
   "id": "b4ecbe51-ed85-4007-a616-3d9a48578ea2",
   "metadata": {},
   "source": [
    "## Generate Cities List"
   ]
  },
  {
   "cell_type": "code",
   "execution_count": 5,
   "id": "a314abd4-2cd1-4a23-8685-ac78b21e50bc",
   "metadata": {},
   "outputs": [
    {
     "data": {
      "text/plain": [
       "607"
      ]
     },
     "execution_count": 5,
     "metadata": {},
     "output_type": "execute_result"
    }
   ],
   "source": [
    "# List for holding lat_lngs and cities\n",
    "lat_lngs = []\n",
    "cities = []\n",
    "\n",
    "# Create a set of random lat and lng combinations\n",
    "lats = np.random.uniform(lat_range[0], lat_range[1], size=1500)\n",
    "lngs = np.random.uniform(lng_range[0], lng_range[1], size=1500)\n",
    "lat_lngs = zip(lats, lngs)\n",
    "\n",
    "# Identify nearest city for each lat, lng combination\n",
    "for lat_lng in lat_lngs:\n",
    "    city = citipy.nearest_city(lat_lng[0], lat_lng[1]).city_name\n",
    "    \n",
    "    # If the city is unique, then add it to a our cities list\n",
    "    if city not in cities:\n",
    "        cities.append(city)\n",
    "\n",
    "# Print the city count to confirm sufficient count\n",
    "len(cities)"
   ]
  },
  {
   "cell_type": "code",
   "execution_count": 4,
   "id": "139fcaa4-2227-4eed-a338-ba184a93ee45",
   "metadata": {},
   "outputs": [
    {
     "name": "stdout",
     "output_type": "stream",
     "text": [
      "bluff not found\n",
      "mahebourg not found\n",
      "amderma not found\n",
      "busselton not found\n",
      "hermanus not found\n",
      "vaini not found\n",
      "atuona not found\n",
      "palembang not found\n",
      "xining not found\n",
      "bubaque not found\n",
      "carutapera not found\n",
      "taolanaro not found\n",
      "kandry not found\n",
      "torbay not found\n",
      "lagoa not found\n",
      "yellowknife not found\n",
      "lompoc not found\n",
      "half moon bay not found\n",
      "kaitangata not found\n",
      "fairbanks not found\n",
      "kaohsiung not found\n",
      "rikitea not found\n",
      "perth not found\n",
      "bengkulu not found\n",
      "khatanga not found\n",
      "sola not found\n",
      "longyearbyen not found\n",
      "nagina not found\n",
      "new norfolk not found\n",
      "jamestown not found\n",
      "basco not found\n",
      "hofn not found\n",
      "montreal not found\n",
      "barawe not found\n",
      "keti bandar not found\n",
      "mataura not found\n",
      "motril not found\n",
      "tucupita not found\n",
      "freetown not found\n",
      "vangaindrano not found\n",
      "ushuaia not found\n",
      "rio grande not found\n",
      "albany not found\n",
      "castro not found\n",
      "tura not found\n",
      "punta arenas not found\n",
      "ilulissat not found\n",
      "nikolskoye not found\n",
      "avarua not found\n",
      "mar del plata not found\n",
      "Found cities were: []\n",
      "The latitude information received is: []\n",
      "The temperature information received is: []\n"
     ]
    }
   ],
   "source": [
    "#rest is in \"starter code\" for HW\n",
    "foundcities = []\n",
    "lat = []\n",
    "temp = []\n",
    "for city in cities[0:50]: # tip, only use 50 cities while you are tuning your code, then try more\n",
    "    try: \n",
    "        response = requests.get(query_url + city).json()\n",
    "        #print(response)\n",
    "        lat.append(response['coord']['lat'])\n",
    "        temp.append(response['main']['temp'])\n",
    "        foundcities.append(city)\n",
    "    except:\n",
    "        print(f\"{city} not found\")\n",
    "        pass\n",
    "print(f\"Found cities were: {foundcities}\")\n",
    "print(f\"The latitude information received is: {lat}\")\n",
    "print(f\"The temperature information received is: {temp}\")\n",
    "weather_dict = {\n",
    "    \"city\": foundcities,\n",
    "    \"lat\": lat,\n",
    "    \"temp\": temp\n",
    "}\n",
    "weather_data = pd.DataFrame(weather_dict)"
   ]
  },
  {
   "cell_type": "code",
   "execution_count": null,
   "id": "2a5c75ba-8da5-42bb-96bc-281c8eab13d8",
   "metadata": {},
   "outputs": [],
   "source": []
  }
 ],
 "metadata": {
  "kernelspec": {
   "display_name": "Python 3",
   "language": "python",
   "name": "python3"
  },
  "language_info": {
   "codemirror_mode": {
    "name": "ipython",
    "version": 3
   },
   "file_extension": ".py",
   "mimetype": "text/x-python",
   "name": "python",
   "nbconvert_exporter": "python",
   "pygments_lexer": "ipython3",
   "version": "3.8.8"
  }
 },
 "nbformat": 4,
 "nbformat_minor": 5
}
