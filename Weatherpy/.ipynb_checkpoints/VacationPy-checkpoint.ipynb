{
 "cells": [
  {
   "cell_type": "code",
   "execution_count": 1,
   "id": "9d68ce75-28d2-49da-abad-fc0c8fe5cb54",
   "metadata": {},
   "outputs": [],
   "source": [
    "# Dependencies and Setup\n",
    "import matplotlib.pyplot as plt\n",
    "import pandas as pd\n",
    "import numpy as np\n",
    "import requests\n",
    "import gmaps\n",
    "import os\n",
    "\n",
    "# Import API key\n",
    "from api_keys import g_key"
   ]
  },
  {
   "cell_type": "code",
   "execution_count": 2,
   "id": "a314abd4-2cd1-4a23-8685-ac78b21e50bc",
   "metadata": {},
   "outputs": [
    {
     "data": {
      "text/html": [
       "<div>\n",
       "<style scoped>\n",
       "    .dataframe tbody tr th:only-of-type {\n",
       "        vertical-align: middle;\n",
       "    }\n",
       "\n",
       "    .dataframe tbody tr th {\n",
       "        vertical-align: top;\n",
       "    }\n",
       "\n",
       "    .dataframe thead th {\n",
       "        text-align: right;\n",
       "    }\n",
       "</style>\n",
       "<table border=\"1\" class=\"dataframe\">\n",
       "  <thead>\n",
       "    <tr style=\"text-align: right;\">\n",
       "      <th></th>\n",
       "      <th>City</th>\n",
       "      <th>Latitude</th>\n",
       "      <th>Longitude</th>\n",
       "      <th>Max Temp (F)</th>\n",
       "      <th>Humidity (%)</th>\n",
       "      <th>Cloudiness (%)</th>\n",
       "      <th>Wind Speed (mph)</th>\n",
       "      <th>Country</th>\n",
       "      <th>Date</th>\n",
       "    </tr>\n",
       "    <tr>\n",
       "      <th>City ID</th>\n",
       "      <th></th>\n",
       "      <th></th>\n",
       "      <th></th>\n",
       "      <th></th>\n",
       "      <th></th>\n",
       "      <th></th>\n",
       "      <th></th>\n",
       "      <th></th>\n",
       "      <th></th>\n",
       "    </tr>\n",
       "  </thead>\n",
       "  <tbody>\n",
       "    <tr>\n",
       "      <th>0</th>\n",
       "      <td>Hong Kong</td>\n",
       "      <td>22.2855</td>\n",
       "      <td>114.1577</td>\n",
       "      <td>58.24</td>\n",
       "      <td>77</td>\n",
       "      <td>96</td>\n",
       "      <td>4.00</td>\n",
       "      <td>HK</td>\n",
       "      <td>1644000626</td>\n",
       "    </tr>\n",
       "    <tr>\n",
       "      <th>1</th>\n",
       "      <td>Butaritari</td>\n",
       "      <td>3.0707</td>\n",
       "      <td>172.7902</td>\n",
       "      <td>82.51</td>\n",
       "      <td>73</td>\n",
       "      <td>14</td>\n",
       "      <td>19.10</td>\n",
       "      <td>KI</td>\n",
       "      <td>1644000786</td>\n",
       "    </tr>\n",
       "    <tr>\n",
       "      <th>2</th>\n",
       "      <td>Punta Arenas</td>\n",
       "      <td>-53.1500</td>\n",
       "      <td>-70.9167</td>\n",
       "      <td>57.31</td>\n",
       "      <td>41</td>\n",
       "      <td>0</td>\n",
       "      <td>17.27</td>\n",
       "      <td>CL</td>\n",
       "      <td>1644000769</td>\n",
       "    </tr>\n",
       "    <tr>\n",
       "      <th>3</th>\n",
       "      <td>Ribeira Grande</td>\n",
       "      <td>38.5167</td>\n",
       "      <td>-28.7000</td>\n",
       "      <td>61.20</td>\n",
       "      <td>77</td>\n",
       "      <td>40</td>\n",
       "      <td>14.97</td>\n",
       "      <td>PT</td>\n",
       "      <td>1644000836</td>\n",
       "    </tr>\n",
       "    <tr>\n",
       "      <th>4</th>\n",
       "      <td>Vaini</td>\n",
       "      <td>-21.2000</td>\n",
       "      <td>-175.2000</td>\n",
       "      <td>75.36</td>\n",
       "      <td>100</td>\n",
       "      <td>100</td>\n",
       "      <td>9.22</td>\n",
       "      <td>TO</td>\n",
       "      <td>1644000811</td>\n",
       "    </tr>\n",
       "  </tbody>\n",
       "</table>\n",
       "</div>"
      ],
      "text/plain": [
       "                   City  Latitude  Longitude  Max Temp (F)  Humidity (%)  \\\n",
       "City ID                                                                    \n",
       "0             Hong Kong   22.2855   114.1577         58.24            77   \n",
       "1            Butaritari    3.0707   172.7902         82.51            73   \n",
       "2          Punta Arenas  -53.1500   -70.9167         57.31            41   \n",
       "3        Ribeira Grande   38.5167   -28.7000         61.20            77   \n",
       "4                 Vaini  -21.2000  -175.2000         75.36           100   \n",
       "\n",
       "         Cloudiness (%)  Wind Speed (mph) Country        Date  \n",
       "City ID                                                        \n",
       "0                    96              4.00      HK  1644000626  \n",
       "1                    14             19.10      KI  1644000786  \n",
       "2                     0             17.27      CL  1644000769  \n",
       "3                    40             14.97      PT  1644000836  \n",
       "4                   100              9.22      TO  1644000811  "
      ]
     },
     "execution_count": 2,
     "metadata": {},
     "output_type": "execute_result"
    }
   ],
   "source": [
    "city_data = pd.read_csv('output_data/cities.csv')\n",
    "\n",
    "city_data.set_index(\"City ID\", inplace=True)\n",
    "\n",
    "city_data.head()"
   ]
  },
  {
   "cell_type": "code",
   "execution_count": 3,
   "id": "139fcaa4-2227-4eed-a338-ba184a93ee45",
   "metadata": {},
   "outputs": [],
   "source": [
    "# Configure gmaps\n",
    "gmaps.configure(api_key=g_key)"
   ]
  },
  {
   "cell_type": "code",
   "execution_count": 4,
   "id": "2913935f-5343-4ba5-91e4-a54d2cb49551",
   "metadata": {},
   "outputs": [],
   "source": [
    "#Set up heatmap\n",
    "fig = gmaps.figure()\n",
    "locations = city_data[[\"Latitude\", \"Longitude\"]]\n",
    "fig.add_layer(gmaps.heatmap_layer(locations))"
   ]
  },
  {
   "cell_type": "code",
   "execution_count": null,
   "id": "2a5c75ba-8da5-42bb-96bc-281c8eab13d8",
   "metadata": {},
   "outputs": [],
   "source": []
  },
  {
   "cell_type": "code",
   "execution_count": 5,
   "id": "a1640af6-dc7e-4f8a-971e-aa395138bdaf",
   "metadata": {},
   "outputs": [
    {
     "data": {
      "application/vnd.jupyter.widget-view+json": {
       "model_id": "7a3f624d3814462888f041de2a52ce7c",
       "version_major": 2,
       "version_minor": 0
      },
      "text/plain": [
       "Figure(layout=FigureLayout(height='420px'))"
      ]
     },
     "metadata": {},
     "output_type": "display_data"
    }
   ],
   "source": [
    "#Set the Lat and Lng as locations and Humidity as the weight\n",
    "locations = city_data[[\"Latitude\", \"Longitude\"]]\n",
    "weight = city_data[\"Humidity (%)\"]\n",
    "\n",
    "#Add heatmap layer to map\n",
    "fig = gmaps.figure()\n",
    "heatmap_layer = gmaps.heatmap_layer(locations, weight, dissipating = False, max_intensity = 50, point_radius = 1)\n",
    "fig.add_layer(heatmap_layer)\n",
    "fig"
   ]
  },
  {
   "cell_type": "code",
   "execution_count": null,
   "id": "5a449d0a-1373-4806-9534-f4b33bb9a43a",
   "metadata": {},
   "outputs": [],
   "source": []
  }
 ],
 "metadata": {
  "kernelspec": {
   "display_name": "Python 3",
   "language": "python",
   "name": "python3"
  },
  "language_info": {
   "codemirror_mode": {
    "name": "ipython",
    "version": 3
   },
   "file_extension": ".py",
   "mimetype": "text/x-python",
   "name": "python",
   "nbconvert_exporter": "python",
   "pygments_lexer": "ipython3",
   "version": "3.8.8"
  }
 },
 "nbformat": 4,
 "nbformat_minor": 5
}
