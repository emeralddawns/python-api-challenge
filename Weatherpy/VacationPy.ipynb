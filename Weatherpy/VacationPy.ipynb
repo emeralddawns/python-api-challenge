{
 "cells": [
  {
   "cell_type": "code",
   "execution_count": 1,
   "id": "9d68ce75-28d2-49da-abad-fc0c8fe5cb54",
   "metadata": {},
   "outputs": [],
   "source": [
    "# Dependencies and Setup\n",
    "import matplotlib.pyplot as plt\n",
    "import pandas as pd\n",
    "import numpy as np\n",
    "import requests\n",
    "import gmaps\n",
    "import os\n",
    "\n",
    "# Import API key\n",
    "from api_keys import g_key"
   ]
  },
  {
   "cell_type": "code",
   "execution_count": 2,
   "id": "a314abd4-2cd1-4a23-8685-ac78b21e50bc",
   "metadata": {},
   "outputs": [
    {
     "data": {
      "text/html": [
       "<div>\n",
       "<style scoped>\n",
       "    .dataframe tbody tr th:only-of-type {\n",
       "        vertical-align: middle;\n",
       "    }\n",
       "\n",
       "    .dataframe tbody tr th {\n",
       "        vertical-align: top;\n",
       "    }\n",
       "\n",
       "    .dataframe thead th {\n",
       "        text-align: right;\n",
       "    }\n",
       "</style>\n",
       "<table border=\"1\" class=\"dataframe\">\n",
       "  <thead>\n",
       "    <tr style=\"text-align: right;\">\n",
       "      <th></th>\n",
       "      <th>City</th>\n",
       "      <th>Latitude</th>\n",
       "      <th>Longitude</th>\n",
       "      <th>Max Temp (F)</th>\n",
       "      <th>Humidity (%)</th>\n",
       "      <th>Cloudiness (%)</th>\n",
       "      <th>Wind Speed (mph)</th>\n",
       "      <th>Country</th>\n",
       "      <th>Date</th>\n",
       "    </tr>\n",
       "    <tr>\n",
       "      <th>City ID</th>\n",
       "      <th></th>\n",
       "      <th></th>\n",
       "      <th></th>\n",
       "      <th></th>\n",
       "      <th></th>\n",
       "      <th></th>\n",
       "      <th></th>\n",
       "      <th></th>\n",
       "      <th></th>\n",
       "    </tr>\n",
       "  </thead>\n",
       "  <tbody>\n",
       "    <tr>\n",
       "      <th>0</th>\n",
       "      <td>Barrow</td>\n",
       "      <td>71.2906</td>\n",
       "      <td>-156.7887</td>\n",
       "      <td>-27.38</td>\n",
       "      <td>68</td>\n",
       "      <td>40</td>\n",
       "      <td>8.05</td>\n",
       "      <td>US</td>\n",
       "      <td>1644007430</td>\n",
       "    </tr>\n",
       "    <tr>\n",
       "      <th>1</th>\n",
       "      <td>Mataura</td>\n",
       "      <td>-46.1927</td>\n",
       "      <td>168.8643</td>\n",
       "      <td>55.47</td>\n",
       "      <td>88</td>\n",
       "      <td>97</td>\n",
       "      <td>1.52</td>\n",
       "      <td>NZ</td>\n",
       "      <td>1644007431</td>\n",
       "    </tr>\n",
       "    <tr>\n",
       "      <th>2</th>\n",
       "      <td>Port Elizabeth</td>\n",
       "      <td>-33.9180</td>\n",
       "      <td>25.5701</td>\n",
       "      <td>67.10</td>\n",
       "      <td>82</td>\n",
       "      <td>75</td>\n",
       "      <td>2.30</td>\n",
       "      <td>ZA</td>\n",
       "      <td>1644007431</td>\n",
       "    </tr>\n",
       "    <tr>\n",
       "      <th>3</th>\n",
       "      <td>Sitka</td>\n",
       "      <td>57.0531</td>\n",
       "      <td>-135.3300</td>\n",
       "      <td>42.69</td>\n",
       "      <td>87</td>\n",
       "      <td>100</td>\n",
       "      <td>11.50</td>\n",
       "      <td>US</td>\n",
       "      <td>1644007265</td>\n",
       "    </tr>\n",
       "    <tr>\n",
       "      <th>4</th>\n",
       "      <td>Cape Town</td>\n",
       "      <td>-33.9258</td>\n",
       "      <td>18.4232</td>\n",
       "      <td>68.34</td>\n",
       "      <td>63</td>\n",
       "      <td>0</td>\n",
       "      <td>4.00</td>\n",
       "      <td>ZA</td>\n",
       "      <td>1644007193</td>\n",
       "    </tr>\n",
       "  </tbody>\n",
       "</table>\n",
       "</div>"
      ],
      "text/plain": [
       "                   City  Latitude  Longitude  Max Temp (F)  Humidity (%)  \\\n",
       "City ID                                                                    \n",
       "0                Barrow   71.2906  -156.7887        -27.38            68   \n",
       "1               Mataura  -46.1927   168.8643         55.47            88   \n",
       "2        Port Elizabeth  -33.9180    25.5701         67.10            82   \n",
       "3                 Sitka   57.0531  -135.3300         42.69            87   \n",
       "4             Cape Town  -33.9258    18.4232         68.34            63   \n",
       "\n",
       "         Cloudiness (%)  Wind Speed (mph) Country        Date  \n",
       "City ID                                                        \n",
       "0                    40              8.05      US  1644007430  \n",
       "1                    97              1.52      NZ  1644007431  \n",
       "2                    75              2.30      ZA  1644007431  \n",
       "3                   100             11.50      US  1644007265  \n",
       "4                     0              4.00      ZA  1644007193  "
      ]
     },
     "execution_count": 2,
     "metadata": {},
     "output_type": "execute_result"
    }
   ],
   "source": [
    "city_data = pd.read_csv('output_data/cities.csv')\n",
    "\n",
    "city_data.set_index(\"City ID\", inplace=True)\n",
    "\n",
    "city_data.head()"
   ]
  },
  {
   "cell_type": "code",
   "execution_count": 3,
   "id": "139fcaa4-2227-4eed-a338-ba184a93ee45",
   "metadata": {},
   "outputs": [],
   "source": [
    "# Configure gmaps\n",
    "gmaps.configure(api_key=g_key)"
   ]
  },
  {
   "cell_type": "code",
   "execution_count": 4,
   "id": "2913935f-5343-4ba5-91e4-a54d2cb49551",
   "metadata": {},
   "outputs": [],
   "source": [
    "#Set up heatmap\n",
    "fig = gmaps.figure()\n",
    "locations = city_data[[\"Latitude\", \"Longitude\"]]\n",
    "fig.add_layer(gmaps.heatmap_layer(locations))"
   ]
  },
  {
   "cell_type": "code",
   "execution_count": null,
   "id": "2a5c75ba-8da5-42bb-96bc-281c8eab13d8",
   "metadata": {},
   "outputs": [],
   "source": []
  },
  {
   "cell_type": "code",
   "execution_count": 5,
   "id": "a1640af6-dc7e-4f8a-971e-aa395138bdaf",
   "metadata": {},
   "outputs": [
    {
     "data": {
      "application/vnd.jupyter.widget-view+json": {
       "model_id": "23b0c3d9fba1478685da77a572003f93",
       "version_major": 2,
       "version_minor": 0
      },
      "text/plain": [
       "Figure(layout=FigureLayout(height='420px'))"
      ]
     },
     "metadata": {},
     "output_type": "display_data"
    }
   ],
   "source": [
    "#Set the Lat and Lng as locations and Humidity as the weight\n",
    "locations = city_data[[\"Latitude\", \"Longitude\"]]\n",
    "weight = city_data[\"Humidity (%)\"]\n",
    "\n",
    "figure_layout = {\n",
    "    'width': '400px',\n",
    "    'height': '300px',\n",
    "    'border': '1px solid black',\n",
    "    'padding': '1px',\n",
    "    'margin': '0 auto 0 auto'\n",
    "    \n",
    "fig = gmaps.figure(layout=figure_layout)\n",
    "#Add heatmap layer to map\n",
    "fig = gmaps.figure()\n",
    "heatmap_layer = gmaps.heatmap_layer(locations, weight, dissipating = False, max_intensity = 50, point_radius = 1)\n",
    "fig.add_layer(heatmap_layer)\n",
    "fig"
   ]
  },
  {
   "cell_type": "code",
   "execution_count": null,
   "id": "5a449d0a-1373-4806-9534-f4b33bb9a43a",
   "metadata": {},
   "outputs": [],
   "source": []
  }
 ],
 "metadata": {
  "kernelspec": {
   "display_name": "Python 3",
   "language": "python",
   "name": "python3"
  },
  "language_info": {
   "codemirror_mode": {
    "name": "ipython",
    "version": 3
   },
   "file_extension": ".py",
   "mimetype": "text/x-python",
   "name": "python",
   "nbconvert_exporter": "python",
   "pygments_lexer": "ipython3",
   "version": "3.8.8"
  }
 },
 "nbformat": 4,
 "nbformat_minor": 5
}
